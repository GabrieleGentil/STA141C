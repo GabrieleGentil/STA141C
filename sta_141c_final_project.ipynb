{
 "cells": [
  {
   "cell_type": "markdown",
   "source": [
    "STA_141C_final_project"
   ],
   "metadata": {
    "collapsed": false
   },
   "id": "8548e517bcd8cce4"
  },
  {
   "cell_type": "code",
   "execution_count": 34,
   "id": "c67f90bb",
   "metadata": {
    "ExecuteTime": {
     "end_time": "2024-05-24T03:52:36.098738600Z",
     "start_time": "2024-05-24T03:52:36.075350200Z"
    }
   },
   "outputs": [],
   "source": [
    "import pandas as pd\n",
    "from sklearn.linear_model import LogisticRegression\n",
    "from sklearn.metrics import accuracy_score, confusion_matrix, classification_report\n",
    "from sklearn.preprocessing import MinMaxScaler, StandardScaler\n",
    "from sklearn.metrics import accuracy_score\n",
    "from sklearn.ensemble import RandomForestClassifier\n",
    "from sklearn.model_selection import train_test_split"
   ]
  },
  {
   "cell_type": "markdown",
   "id": "c41a6299",
   "metadata": {},
   "source": [
    "Dataset Preprocessing"
   ]
  },
  {
   "cell_type": "code",
   "execution_count": 35,
   "id": "45c086b8",
   "metadata": {
    "ExecuteTime": {
     "end_time": "2024-05-24T03:52:41.088866200Z",
     "start_time": "2024-05-24T03:52:36.080378400Z"
    }
   },
   "outputs": [
    {
     "data": {
      "text/plain": "   Industry  Race  Hours Worked  Health Status  Income Tax  Income Sources  \\\n0        23     1            -1              4           0               0   \n1        23     1            -1              4           0               0   \n2        23     1            -1              3           0               0   \n3         7     1            40              3           0               0   \n4        23     1            -1              4           0               0   \n\n   Full/Part Status  Company Size  Income  Age  Education  Marital Status  \\\n0                 1             0       5   15         39               4   \n1                 1             0       7   15         39               4   \n2                 1             0       4   11         39               1   \n3                 2             6      17   11         40               1   \n4                 1             0       6   17         39               4   \n\n   Gender  Residence  Job Class  \n0       2          0          5  \n1       2          0          5  \n2       2          0          5  \n3       1          0          1  \n4       2          0          5  ",
      "text/html": "<div>\n<style scoped>\n    .dataframe tbody tr th:only-of-type {\n        vertical-align: middle;\n    }\n\n    .dataframe tbody tr th {\n        vertical-align: top;\n    }\n\n    .dataframe thead th {\n        text-align: right;\n    }\n</style>\n<table border=\"1\" class=\"dataframe\">\n  <thead>\n    <tr style=\"text-align: right;\">\n      <th></th>\n      <th>Industry</th>\n      <th>Race</th>\n      <th>Hours Worked</th>\n      <th>Health Status</th>\n      <th>Income Tax</th>\n      <th>Income Sources</th>\n      <th>Full/Part Status</th>\n      <th>Company Size</th>\n      <th>Income</th>\n      <th>Age</th>\n      <th>Education</th>\n      <th>Marital Status</th>\n      <th>Gender</th>\n      <th>Residence</th>\n      <th>Job Class</th>\n    </tr>\n  </thead>\n  <tbody>\n    <tr>\n      <th>0</th>\n      <td>23</td>\n      <td>1</td>\n      <td>-1</td>\n      <td>4</td>\n      <td>0</td>\n      <td>0</td>\n      <td>1</td>\n      <td>0</td>\n      <td>5</td>\n      <td>15</td>\n      <td>39</td>\n      <td>4</td>\n      <td>2</td>\n      <td>0</td>\n      <td>5</td>\n    </tr>\n    <tr>\n      <th>1</th>\n      <td>23</td>\n      <td>1</td>\n      <td>-1</td>\n      <td>4</td>\n      <td>0</td>\n      <td>0</td>\n      <td>1</td>\n      <td>0</td>\n      <td>7</td>\n      <td>15</td>\n      <td>39</td>\n      <td>4</td>\n      <td>2</td>\n      <td>0</td>\n      <td>5</td>\n    </tr>\n    <tr>\n      <th>2</th>\n      <td>23</td>\n      <td>1</td>\n      <td>-1</td>\n      <td>3</td>\n      <td>0</td>\n      <td>0</td>\n      <td>1</td>\n      <td>0</td>\n      <td>4</td>\n      <td>11</td>\n      <td>39</td>\n      <td>1</td>\n      <td>2</td>\n      <td>0</td>\n      <td>5</td>\n    </tr>\n    <tr>\n      <th>3</th>\n      <td>7</td>\n      <td>1</td>\n      <td>40</td>\n      <td>3</td>\n      <td>0</td>\n      <td>0</td>\n      <td>2</td>\n      <td>6</td>\n      <td>17</td>\n      <td>11</td>\n      <td>40</td>\n      <td>1</td>\n      <td>1</td>\n      <td>0</td>\n      <td>1</td>\n    </tr>\n    <tr>\n      <th>4</th>\n      <td>23</td>\n      <td>1</td>\n      <td>-1</td>\n      <td>4</td>\n      <td>0</td>\n      <td>0</td>\n      <td>1</td>\n      <td>0</td>\n      <td>6</td>\n      <td>17</td>\n      <td>39</td>\n      <td>4</td>\n      <td>2</td>\n      <td>0</td>\n      <td>5</td>\n    </tr>\n  </tbody>\n</table>\n</div>"
     },
     "execution_count": 35,
     "metadata": {},
     "output_type": "execute_result"
    }
   ],
   "source": [
    "df = pd.read_csv(\"./pppub23.csv\")\n",
    "\n",
    "df= df[['WEIND', 'PRDTRACE', 'PEHRUSLT', 'HEA', 'EIT_CRED', 'OI_OFF', 'A_WKSTAT', 'NOEMP', 'PTOT_R', 'AGE1', 'A_HGA', 'A_MARITL', 'A_SEX', 'MIG_ST', 'CLWK']]\n",
    "df= df.rename(columns={\n",
    "    'WEIND': 'Industry',\n",
    "    'PRDTRACE': 'Race',\n",
    "    'PEHRUSLT': 'Hours Worked',\n",
    "    'HEA': 'Health Status',\n",
    "    'EIT_CRED': 'Income Tax',\n",
    "    'OI_OFF': 'Income Sources',\n",
    "    'A_WKSTAT': 'Full/Part Status',\n",
    "    'NOEMP': 'Company Size',\n",
    "    'PTOT_R': 'Income',\n",
    "    'AGE1': 'Age',\n",
    "    'A_HGA': 'Education',\n",
    "    'A_MARITL': 'Marital Status',\n",
    "    'A_SEX': 'Gender',\n",
    "    'MIG_ST': 'Residence',\n",
    "    'CLWK': 'Job Class'\n",
    "})\n",
    "\n",
    "df.head()\n"
   ]
  },
  {
   "cell_type": "code",
   "execution_count": 36,
   "id": "00df1d75",
   "metadata": {
    "ExecuteTime": {
     "end_time": "2024-05-24T03:52:41.198876600Z",
     "start_time": "2024-05-24T03:52:41.090495600Z"
    }
   },
   "outputs": [],
   "source": [
    "df = pd.read_csv(\"./dataset.csv\")"
   ]
  },
  {
   "cell_type": "markdown",
   "source": [
    "Logistic Regression"
   ],
   "metadata": {
    "collapsed": false
   },
   "id": "c21ef372081005b4"
  },
  {
   "cell_type": "code",
   "execution_count": 37,
   "id": "8ad9eb04",
   "metadata": {
    "ExecuteTime": {
     "end_time": "2024-05-24T03:52:43.078076200Z",
     "start_time": "2024-05-24T03:52:41.162616700Z"
    }
   },
   "outputs": [
    {
     "name": "stdout",
     "output_type": "stream",
     "text": [
      "Accuracy: 0.6128237588531152\n"
     ]
    },
    {
     "name": "stderr",
     "output_type": "stream",
     "text": [
      "D:\\anaconda\\Lib\\site-packages\\sklearn\\linear_model\\_logistic.py:460: ConvergenceWarning: lbfgs failed to converge (status=1):\n",
      "STOP: TOTAL NO. of ITERATIONS REACHED LIMIT.\n",
      "\n",
      "Increase the number of iterations (max_iter) or scale the data as shown in:\n",
      "    https://scikit-learn.org/stable/modules/preprocessing.html\n",
      "Please also refer to the documentation for alternative solver options:\n",
      "    https://scikit-learn.org/stable/modules/linear_model.html#logistic-regression\n",
      "  n_iter_i = _check_optimize_result(\n"
     ]
    }
   ],
   "source": [
    "#logistic 4 classes\n",
    "def income_class(income):\n",
    "    if income in range(0, 10): \n",
    "        return 0\n",
    "    elif income in range(11, 20):  \n",
    "        return 1\n",
    "    elif income in range(21, 39): \n",
    "        return 2\n",
    "    else:  \n",
    "        return 3\n",
    "\n",
    "df['Income_class'] = df['Income'].apply(income_class)\n",
    "X = df.drop(columns=['Income', \"Income_class\"])  \n",
    "y = df['Income_class']\n",
    "X_train, X_test, y_train, y_test = train_test_split(X, y, test_size=0.2, random_state=42)\n",
    "logistic_4 = LogisticRegression()\n",
    "logistic_4.fit(X_train, y_train)\n",
    "\n",
    "y_pred = logistic_4.predict(X_test)\n",
    "accuracy = accuracy_score(y_test, y_pred)\n",
    "print(\"Accuracy:\", accuracy)\n"
   ]
  },
  {
   "cell_type": "code",
   "execution_count": 38,
   "id": "328dcb92",
   "metadata": {
    "ExecuteTime": {
     "end_time": "2024-05-24T03:52:43.451557500Z",
     "start_time": "2024-05-24T03:52:43.078076200Z"
    }
   },
   "outputs": [
    {
     "name": "stdout",
     "output_type": "stream",
     "text": [
      "Accuracy: 0.8474698053170014\n"
     ]
    }
   ],
   "source": [
    "def income_class(income):\n",
    "    if income in range(0, 20): \n",
    "        return 0\n",
    "    else:  \n",
    "        return 1\n",
    "\n",
    "df['Income_class'] = df['Income'].apply(income_class)\n",
    "\n",
    "X = df.drop(columns=['Income',\"Income_class\"])\n",
    "min_max_scaler = MinMaxScaler()\n",
    "X = min_max_scaler.fit_transform(X)\n",
    "y = df['Income_class']\n",
    "X_train, X_test, y_train, y_test = train_test_split(X, y, test_size=0.2, random_state=42)\n",
    "logistic_2 = LogisticRegression()\n",
    "logistic_2.fit(X_train, y_train)\n",
    "\n",
    "y_pred = logistic_2.predict(X_test)\n",
    "accuracy = accuracy_score(y_test, y_pred)\n",
    "print(\"Accuracy:\", accuracy)\n"
   ]
  },
  {
   "cell_type": "markdown",
   "id": "e4976c02",
   "metadata": {},
   "source": [
    "Decision Tree"
   ]
  },
  {
   "cell_type": "code",
   "execution_count": 39,
   "id": "f6b039c2",
   "metadata": {
    "ExecuteTime": {
     "end_time": "2024-05-24T03:52:43.550014100Z",
     "start_time": "2024-05-24T03:52:43.454029900Z"
    }
   },
   "outputs": [
    {
     "name": "stdout",
     "output_type": "stream",
     "text": [
      "0.8359051561911931\n"
     ]
    }
   ],
   "source": [
    "#decision tree\n",
    "from sklearn.tree import DecisionTreeClassifier\n",
    "X_train, X_test, y_train, y_test = train_test_split(X, y, test_size=0.2, random_state=42)\n",
    "dt = DecisionTreeClassifier(criterion=\"entropy\", max_depth=5, random_state=42)\n",
    "dt.fit(X_train, y_train)\n",
    "y_pred = dt.predict(X_test)\n",
    "acc = accuracy_score(y_test, y_pred)\n",
    "print(acc)"
   ]
  },
  {
   "cell_type": "markdown",
   "id": "13bd16f3",
   "metadata": {},
   "source": [
    "Random Forest"
   ]
  },
  {
   "cell_type": "code",
   "execution_count": 40,
   "id": "f7863a08",
   "metadata": {
    "ExecuteTime": {
     "end_time": "2024-05-24T03:52:49.762748700Z",
     "start_time": "2024-05-24T03:52:43.551008700Z"
    }
   },
   "outputs": [
    {
     "name": "stdout",
     "output_type": "stream",
     "text": [
      "0.8516440277825299\n"
     ]
    }
   ],
   "source": [
    "#random forest model \n",
    "#2 class \n",
    "def income_class(income):\n",
    "    if income in range(0, 20): \n",
    "        return 0\n",
    "    else:  \n",
    "        return 1\n",
    "\n",
    "df['Income_class'] = df['Income'].apply(income_class)\n",
    "X = df.drop(columns=['Income',\"Income_class\"])\n",
    "min_max_scaler = MinMaxScaler()\n",
    "X = min_max_scaler.fit_transform(X)\n",
    "y = df['Income_class']\n",
    "\n",
    "X_train, X_test, y_train, y_test = train_test_split(X, y, test_size=0.2, random_state=42)\n",
    "\n",
    "rf_2 = RandomForestClassifier(n_estimators=100, random_state=42)\n",
    "rf_2.fit(X_train, y_train)\n",
    "\n",
    "y_pred = rf_2.predict(X_test)\n",
    "\n",
    "accuracy = accuracy_score(y_test, y_pred)\n",
    "print(accuracy)"
   ]
  },
  {
   "cell_type": "code",
   "execution_count": 41,
   "id": "c9d1e11b",
   "metadata": {
    "ExecuteTime": {
     "end_time": "2024-05-24T03:52:57.924457400Z",
     "start_time": "2024-05-24T03:52:49.764907Z"
    }
   },
   "outputs": [
    {
     "data": {
      "text/plain": "0.6736579190474561"
     },
     "execution_count": 41,
     "metadata": {},
     "output_type": "execute_result"
    }
   ],
   "source": [
    "#random forest model \n",
    "#4 class \n",
    "def income_class(Income):\n",
    "    if Income in range(0, 10): \n",
    "        return 0\n",
    "    elif Income in range(11, 20):  \n",
    "        return 1\n",
    "    elif Income in range(21, 39): \n",
    "        return 2\n",
    "    else:  \n",
    "        return 3\n",
    "\n",
    "df['Income_class'] = df['Income'].apply(income_class)\n",
    "X = df.drop(columns=['Income', \"Income_class\"])  \n",
    "y = df['Income_class']\n",
    "X_train, X_test, y_train, y_test = train_test_split(X, y, test_size=0.2, random_state=42)\n",
    "rf_4 = RandomForestClassifier(n_estimators=100, random_state=42)\n",
    "rf_4.fit(X_train, y_train)\n",
    "y_pred = rf_4.predict(X_test)\n",
    "accuracy = accuracy_score(y_test, y_pred)\n",
    "accuracy"
   ]
  },
  {
   "cell_type": "code",
   "execution_count": 42,
   "id": "8676b5e1",
   "metadata": {
    "ExecuteTime": {
     "end_time": "2024-05-24T03:57:28.384997500Z",
     "start_time": "2024-05-24T03:52:57.924457400Z"
    }
   },
   "outputs": [
    {
     "name": "stderr",
     "output_type": "stream",
     "text": [
      "100%|██████████| 2002/2002 [04:30<00:00,  7.41it/s]"
     ]
    },
    {
     "name": "stdout",
     "output_type": "stream",
     "text": [
      "Best combination of 5 features: ['Industry', 'Income Tax', 'Full/Part Status', 'Age', 'Education']\n",
      "Best accuracy: 0.8458617032196257\n"
     ]
    },
    {
     "name": "stderr",
     "output_type": "stream",
     "text": [
      "\n"
     ]
    }
   ],
   "source": [
    "#best subset\n",
    "import random\n",
    "import pandas as pd\n",
    "from sklearn.metrics import accuracy_score, precision_score, recall_score, f1_score, confusion_matrix\n",
    "import itertools\n",
    "import numpy as np\n",
    "from sklearn.ensemble import RandomForestClassifier\n",
    "from sklearn.model_selection import train_test_split, cross_val_score, KFold\n",
    "from sklearn.preprocessing import MinMaxScaler, StandardScaler\n",
    "from tqdm import tqdm\n",
    "\n",
    "def income_class(Income):\n",
    "    if Income in range(0, 20):\n",
    "        return 0\n",
    "    else:\n",
    "        return 1\n",
    "\n",
    "random.seed(42)\n",
    "df = pd.read_csv(\"./dataset.csv\")\n",
    "X = df.drop(columns='Income')\n",
    "df['Income_class'] = df['Income'].apply(income_class)\n",
    "\n",
    "min_max_scaler = MinMaxScaler()\n",
    "X = min_max_scaler.fit_transform(X)\n",
    "y = df['Income_class']\n",
    "\n",
    "X_train, X_test, y_train, y_test = train_test_split(X, y, test_size=0.2, random_state=42)\n",
    "\n",
    "\n",
    "def evaluate_model(X_train, y_train, X_test, y_test, feature_indices):\n",
    "\n",
    "    X_train_subset = X_train[:, feature_indices]\n",
    "    X_test_subset = X_test[:, feature_indices]\n",
    "\n",
    "    # Train a random forest classifier\n",
    "    rf = RandomForestClassifier(n_estimators=5, random_state=42)\n",
    "    rf.fit(X_train_subset, y_train)\n",
    "\n",
    "    y_pred = rf.predict(X_test_subset)\n",
    "    accuracy = accuracy_score(y_test, y_pred)\n",
    "    return accuracy\n",
    "\n",
    "# Number of features to select\n",
    "k = 5\n",
    "\n",
    "# Generate all combinations of k features\n",
    "combinations = list(itertools.combinations(range(X.shape[1]), k))\n",
    "\n",
    "best_score = 0\n",
    "best_combination = []\n",
    "\n",
    "for combination in tqdm(combinations):\n",
    "    score = evaluate_model(X_train, y_train, X_test, y_test, combination)\n",
    "    if score > best_score:\n",
    "        best_score = score\n",
    "        best_combination = combination\n",
    "\n",
    "new_df = df.drop(columns='Income')\n",
    "best_feature_names = [new_df.columns[i] for i in best_combination]\n",
    "print(f\"Best combination of {k} features: {best_feature_names}\")\n",
    "print(f\"Best accuracy: {best_score}\")\n"
   ]
  },
  {
   "cell_type": "code",
   "execution_count": 43,
   "id": "4b3041ce",
   "metadata": {
    "ExecuteTime": {
     "end_time": "2024-05-24T03:57:44.983414700Z",
     "start_time": "2024-05-24T03:57:28.387501600Z"
    }
   },
   "outputs": [
    {
     "name": "stdout",
     "output_type": "stream",
     "text": [
      "[0.8470592260580969, 0.8461012077873199, 0.8473671605022753, 0.848662150140286, 0.8461985902963115]\n",
      "0.8470776669568579\n"
     ]
    }
   ],
   "source": [
    "from numpy import mean\n",
    "\n",
    "#Model on features in the best subset \n",
    "X_small = df[best_feature_names]\n",
    "y_small = y\n",
    "min_max_scaler = MinMaxScaler()\n",
    "X = min_max_scaler.fit_transform(X_small)\n",
    "y = df['Income_class']\n",
    "kf = KFold(n_splits=5, shuffle=True, random_state=42)\n",
    "bs_rf = RandomForestClassifier()\n",
    "\n",
    "accuracies = []\n",
    "for train_index, test_index in kf.split(X):\n",
    "    X_train, X_test = X[train_index], X[test_index]\n",
    "    y_train, y_test = y[train_index], y[test_index]\n",
    "    bs_rf.fit(X_train, y_train)\n",
    "    y_pred = bs_rf.predict(X_test)\n",
    "    acc = accuracy_score(y_test, y_pred)\n",
    "    accuracies.append(acc)\n",
    "print(accuracies)\n",
    "print(mean(accuracies))"
   ]
  },
  {
   "cell_type": "code",
   "execution_count": 44,
   "id": "124f28b7",
   "metadata": {
    "ExecuteTime": {
     "end_time": "2024-05-24T03:57:45.081122300Z",
     "start_time": "2024-05-24T03:57:44.985413Z"
    }
   },
   "outputs": [
    {
     "name": "stdout",
     "output_type": "stream",
     "text": [
      "Explained Variance Ratio for Each Principal Component:\n",
      "      Explained Variance Ratio\n",
      "PC1                   0.340333\n",
      "PC2                   0.237749\n",
      "PC3                   0.154693\n",
      "PC4                   0.083070\n",
      "PC5                   0.065100\n",
      "PC6                   0.040435\n",
      "PC7                   0.020623\n",
      "PC8                   0.016073\n",
      "PC9                   0.010228\n",
      "PC10                  0.007045\n",
      "PC11                  0.006443\n",
      "PC12                  0.006400\n",
      "PC13                  0.006062\n",
      "PC14                  0.002970\n",
      "PC15                  0.002776\n",
      "\n",
      "Selected Features (top 2):\n",
      "   Industry      Race  Hours Worked  Health Status  Income Tax  \\\n",
      "0 -0.393639  0.004702     -0.059061      -0.110970   -0.002783   \n",
      "1 -0.345158 -0.000533      0.129762      -0.109938   -0.004352   \n",
      "\n",
      "   Income Sources  Full/Part Status  Company Size       Age  Education  \\\n",
      "0       -0.007885         -0.115349     -0.200848 -0.386519  -0.444018   \n",
      "1        0.004380          0.076128      0.480346 -0.064991   0.013409   \n",
      "\n",
      "   Marital Status    Gender  Residence  Job Class  Income_class  \n",
      "0        0.486585 -0.050645   0.004780  -0.309653     -0.306141  \n",
      "1       -0.116084 -0.331723   0.002938  -0.466423      0.519516  \n"
     ]
    }
   ],
   "source": [
    "#PCA\n",
    "import pandas as pd\n",
    "from sklearn.decomposition import PCA\n",
    "from sklearn.preprocessing import MinMaxScaler\n",
    "\n",
    "\n",
    "X = df.drop(columns=['Income'])\n",
    "\n",
    "scaler = MinMaxScaler()\n",
    "X_scaled = scaler.fit_transform(X)\n",
    "\n",
    "pca = PCA()\n",
    "X_pca = pca.fit_transform(X_scaled)\n",
    "\n",
    "explained_variance_ratio = pca.explained_variance_ratio_\n",
    "components_df = pd.DataFrame({'Explained Variance Ratio': explained_variance_ratio}, index=[f'PC{i+1}' for i in range(len(X.columns))])\n",
    "print(\"Explained Variance Ratio for Each Principal Component:\")\n",
    "print(components_df)\n",
    "\n",
    "column_names = X.columns\n",
    "\n",
    "n_components = 2 \n",
    "selected_features = pca.components_[:n_components]\n",
    "selected_features_df = pd.DataFrame(selected_features, columns=column_names)\n",
    "print(f\"\\nSelected Features (top {n_components}):\")\n",
    "print(selected_features_df)\n"
   ]
  },
  {
   "cell_type": "code",
   "execution_count": 45,
   "id": "2ab2b002",
   "metadata": {
    "ExecuteTime": {
     "end_time": "2024-05-24T03:59:59.945448Z",
     "start_time": "2024-05-24T03:57:45.076607100Z"
    }
   },
   "outputs": [
    {
     "name": "stdout",
     "output_type": "stream",
     "text": [
      "Fold 1 Accuracy: 0.8276251411366202\n",
      "Fold 2 Accuracy: 0.8270092722482636\n",
      "Fold 3 Accuracy: 0.8284120847161871\n",
      "Fold 4 Accuracy: 0.8300143707657566\n",
      "Fold 5 Accuracy: 0.8254294121672483\n",
      "Mean Accuracy: 0.8276980562068152\n"
     ]
    }
   ],
   "source": [
    "#kfold on PCA\n",
    "def income_class(Income):\n",
    "    if Income in range(0, 20):\n",
    "        return 1\n",
    "    else:\n",
    "        return 2\n",
    "\n",
    "df['Income_class'] = df['Income'].apply(income_class)\n",
    "\n",
    "X = df.drop(columns=['Income', 'Income_class'])\n",
    "y = df['Income_class']\n",
    "\n",
    "scaler = MinMaxScaler()\n",
    "X_scaled = scaler.fit_transform(X)\n",
    "\n",
    "pca = PCA(n_components=7)\n",
    "X_pca = pca.fit_transform(X_scaled)\n",
    "\n",
    "X_train, X_test, y_train, y_test = train_test_split(X_pca, y, test_size=0.3, random_state=42)\n",
    "\n",
    "pca_rf = RandomForestClassifier(n_estimators=100, random_state=42)\n",
    "kf = KFold(n_splits=5, shuffle=True, random_state=42)\n",
    "\n",
    "cv_scores = cross_val_score(pca_rf, X_pca, y, cv=kf, scoring='accuracy')\n",
    "\n",
    "for fold, score in enumerate(cv_scores, 1):\n",
    "    print(f\"Fold {fold} Accuracy: {score}\")\n",
    "print(f\"Mean Accuracy: {np.mean(cv_scores)}\")"
   ]
  },
  {
   "cell_type": "markdown",
   "id": "dde1c045",
   "metadata": {
    "scrolled": true
   },
   "source": [
    "Model evaluation"
   ]
  },
  {
   "cell_type": "code",
   "execution_count": 51,
   "outputs": [],
   "source": [
    "from sklearn.metrics import accuracy_score, precision_score, recall_score, f1_score, confusion_matrix, roc_curve, roc_auc_score\n",
    "import matplotlib.pyplot as plt\n",
    "\n",
    "def model_evaluation(X_test, y_test, model):\n",
    "    y_pred = model.predict(X_test)\n",
    "    result = {\"Accuracy\": accuracy_score(y_test, y_pred),\n",
    "        \"Precision\": precision_score(y_test, y_pred),\n",
    "        \"Recall\": recall_score(y_test, y_pred),\n",
    "        \"F1-score\": f1_score(y_test, y_pred),\n",
    "        \"Confusion matrix\": confusion_matrix(y_test, y_pred)}\n",
    "    print(result)\n",
    "    \n",
    "    #ROC AUC\n",
    "    y_prob = model.predict_proba(X_test)[:, 1]\n",
    "    fpr, tpr, thresholds = roc_curve(y_test, y_prob)\n",
    "    roc_auc = roc_auc_score(y_test, y_prob)\n",
    "\n",
    "    plt.figure()\n",
    "    plt.plot(fpr, tpr,  label=f'ROC curve (area = {roc_auc:0.2f})')\n",
    "    plt.plot([0, 1], [0, 1])\n",
    "    plt.xlim([0.0, 1.0])\n",
    "    plt.ylim([0.0, 1.05])\n",
    "    plt.xlabel('FPR')\n",
    "    plt.ylabel('TPR')\n",
    "    plt.title('ROC')\n",
    "    plt.legend(loc='lower right')\n",
    "    plt.show()\n",
    "\n",
    "def income_class2(income):\n",
    "    if income in range(0, 20): \n",
    "        return 0\n",
    "    else:  \n",
    "        return 1\n",
    "def income_class4(Income):\n",
    "    if Income in range(0, 10): \n",
    "        return 0\n",
    "    elif Income in range(11, 20):  \n",
    "        return 1\n",
    "    elif Income in range(21, 39): \n",
    "        return 2\n",
    "    else:  \n",
    "        return 3"
   ],
   "metadata": {
    "collapsed": false,
    "ExecuteTime": {
     "end_time": "2024-05-24T04:37:29.893030700Z",
     "start_time": "2024-05-24T04:37:29.866372700Z"
    }
   },
   "id": "6a08ac55a598239e"
  },
  {
   "cell_type": "code",
   "execution_count": 52,
   "outputs": [
    {
     "name": "stdout",
     "output_type": "stream",
     "text": [
      "{'Accuracy': 0.8516440277825299, 'Precision': 0.7561231630510846, 'Recall': 0.742781851512374, 'F1-score': 0.749393133741764, 'Confusion matrix': array([[18408,  2091],\n",
      "       [ 2245,  6483]], dtype=int64)}\n"
     ]
    },
    {
     "data": {
      "text/plain": "<Figure size 640x480 with 1 Axes>",
      "image/png": "[encoded data removed]"
     },
     "metadata": {},
     "output_type": "display_data"
    }
   ],
   "source": [
    "df['Income_class'] = df['Income'].apply(income_class2)\n",
    "X = df.drop(columns=['Income',\"Income_class\"])\n",
    "min_max_scaler = MinMaxScaler()\n",
    "X = min_max_scaler.fit_transform(X)\n",
    "y = df['Income_class']\n",
    "X_train, X_test, y_train, y_test = train_test_split(X, y, test_size=0.2, random_state=42)\n",
    "model_evaluation(X_test, y_test, rf_2) #Models:logistic2, logistic4, dt, rf_2, rf_4, bs_rf, pca_rf"
   ],
   "metadata": {
    "collapsed": false,
    "ExecuteTime": {
     "end_time": "2024-05-24T04:37:31.838569Z",
     "start_time": "2024-05-24T04:37:30.900790400Z"
    }
   },
   "id": "771b7fb1173a9223"
  }
 ],
 "metadata": {
  "kernelspec": {
   "display_name": "Python 3 (ipykernel)",
   "language": "python",
   "name": "python3"
  },
  "language_info": {
   "codemirror_mode": {
    "name": "ipython",
    "version": 3
   },
   "file_extension": ".py",
   "mimetype": "text/x-python",
   "name": "python",
   "nbconvert_exporter": "python",
   "pygments_lexer": "ipython3",
   "version": "3.11.5"
  }
 },
 "nbformat": 4,
 "nbformat_minor": 5
}

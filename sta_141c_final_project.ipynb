{
 "cells": [
  {
   "cell_type": "markdown",
   "id": "8548e517bcd8cce4",
   "metadata": {},
   "source": [
    "STA_141C_final_project"
   ]
  },
  {
   "cell_type": "code",
   "execution_count": 1,
   "id": "c67f90bb",
   "metadata": {
    "ExecuteTime": {
     "end_time": "2024-06-03T03:44:45.488735900Z",
     "start_time": "2024-06-03T03:44:44.152506100Z"
    }
   },
   "outputs": [],
   "source": [
    "import pandas as pd\n",
    "from sklearn.preprocessing import MinMaxScaler, StandardScaler\n",
    "from sklearn.metrics import accuracy_score\n",
    "from sklearn.ensemble import RandomForestClassifier\n",
    "from sklearn.model_selection import train_test_split\n",
    "from sklearn.metrics import accuracy_score, precision_score, recall_score, f1_score, confusion_matrix, roc_curve, roc_auc_score, confusion_matrix, ConfusionMatrixDisplay\n",
    "import matplotlib.pyplot as plt"
   ]
  },
  {
   "cell_type": "markdown",
   "id": "c41a6299",
   "metadata": {},
   "source": [
    "Dataset Preprocessing"
   ]
  },
  {
   "cell_type": "code",
   "execution_count": 2,
   "id": "45c086b8",
   "metadata": {
    "ExecuteTime": {
     "end_time": "2024-06-03T03:44:49.146040100Z",
     "start_time": "2024-06-03T03:44:45.488735900Z"
    }
   },
   "outputs": [
    {
     "data": {
      "text/plain": "   Industry  Race  Hours Worked  Health Status  Income Tax  Income Sources  \\\n0        23     1            -1              4           0               0   \n1        23     1            -1              4           0               0   \n2        23     1            -1              3           0               0   \n3         7     1            40              3           0               0   \n4        23     1            -1              4           0               0   \n\n   Full/Part Status  Company Size  Income  Age  Education  Marital Status  \\\n0                 1             0       5   15         39               4   \n1                 1             0       7   15         39               4   \n2                 1             0       4   11         39               1   \n3                 2             6      17   11         40               1   \n4                 1             0       6   17         39               4   \n\n   Gender  Residence  Job Class  \n0       2          0          5  \n1       2          0          5  \n2       2          0          5  \n3       1          0          1  \n4       2          0          5  ",
      "text/html": "<div>\n<style scoped>\n    .dataframe tbody tr th:only-of-type {\n        vertical-align: middle;\n    }\n\n    .dataframe tbody tr th {\n        vertical-align: top;\n    }\n\n    .dataframe thead th {\n        text-align: right;\n    }\n</style>\n<table border=\"1\" class=\"dataframe\">\n  <thead>\n    <tr style=\"text-align: right;\">\n      <th></th>\n      <th>Industry</th>\n      <th>Race</th>\n      <th>Hours Worked</th>\n      <th>Health Status</th>\n      <th>Income Tax</th>\n      <th>Income Sources</th>\n      <th>Full/Part Status</th>\n      <th>Company Size</th>\n      <th>Income</th>\n      <th>Age</th>\n      <th>Education</th>\n      <th>Marital Status</th>\n      <th>Gender</th>\n      <th>Residence</th>\n      <th>Job Class</th>\n    </tr>\n  </thead>\n  <tbody>\n    <tr>\n      <th>0</th>\n      <td>23</td>\n      <td>1</td>\n      <td>-1</td>\n      <td>4</td>\n      <td>0</td>\n      <td>0</td>\n      <td>1</td>\n      <td>0</td>\n      <td>5</td>\n      <td>15</td>\n      <td>39</td>\n      <td>4</td>\n      <td>2</td>\n      <td>0</td>\n      <td>5</td>\n    </tr>\n    <tr>\n      <th>1</th>\n      <td>23</td>\n      <td>1</td>\n      <td>-1</td>\n      <td>4</td>\n      <td>0</td>\n      <td>0</td>\n      <td>1</td>\n      <td>0</td>\n      <td>7</td>\n      <td>15</td>\n      <td>39</td>\n      <td>4</td>\n      <td>2</td>\n      <td>0</td>\n      <td>5</td>\n    </tr>\n    <tr>\n      <th>2</th>\n      <td>23</td>\n      <td>1</td>\n      <td>-1</td>\n      <td>3</td>\n      <td>0</td>\n      <td>0</td>\n      <td>1</td>\n      <td>0</td>\n      <td>4</td>\n      <td>11</td>\n      <td>39</td>\n      <td>1</td>\n      <td>2</td>\n      <td>0</td>\n      <td>5</td>\n    </tr>\n    <tr>\n      <th>3</th>\n      <td>7</td>\n      <td>1</td>\n      <td>40</td>\n      <td>3</td>\n      <td>0</td>\n      <td>0</td>\n      <td>2</td>\n      <td>6</td>\n      <td>17</td>\n      <td>11</td>\n      <td>40</td>\n      <td>1</td>\n      <td>1</td>\n      <td>0</td>\n      <td>1</td>\n    </tr>\n    <tr>\n      <th>4</th>\n      <td>23</td>\n      <td>1</td>\n      <td>-1</td>\n      <td>4</td>\n      <td>0</td>\n      <td>0</td>\n      <td>1</td>\n      <td>0</td>\n      <td>6</td>\n      <td>17</td>\n      <td>39</td>\n      <td>4</td>\n      <td>2</td>\n      <td>0</td>\n      <td>5</td>\n    </tr>\n  </tbody>\n</table>\n</div>"
     },
     "execution_count": 2,
     "metadata": {},
     "output_type": "execute_result"
    }
   ],
   "source": [
    "df = pd.read_csv(\"./pppub23.csv\")\n",
    "\n",
    "df= df[['WEIND', 'PRDTRACE', 'PEHRUSLT', 'HEA', 'EIT_CRED', 'OI_OFF', 'A_WKSTAT', 'NOEMP', 'PTOT_R', 'AGE1', 'A_HGA', 'A_MARITL', 'A_SEX', 'MIG_ST', 'CLWK']]\n",
    "df= df.rename(columns={\n",
    "    'WEIND': 'Industry',\n",
    "    'PRDTRACE': 'Race',\n",
    "    'PEHRUSLT': 'Hours Worked',\n",
    "    'HEA': 'Health Status',\n",
    "    'EIT_CRED': 'Income Tax',\n",
    "    'OI_OFF': 'Income Sources',\n",
    "    'A_WKSTAT': 'Full/Part Status',\n",
    "    'NOEMP': 'Company Size',\n",
    "    'PTOT_R': 'Income',\n",
    "    'AGE1': 'Age',\n",
    "    'A_HGA': 'Education',\n",
    "    'A_MARITL': 'Marital Status',\n",
    "    'A_SEX': 'Gender',\n",
    "    'MIG_ST': 'Residence',\n",
    "    'CLWK': 'Job Class'\n",
    "})\n",
    "\n",
    "df.head()\n"
   ]
  },
  {
   "cell_type": "code",
   "execution_count": 3,
   "id": "00df1d75",
   "metadata": {
    "ExecuteTime": {
     "end_time": "2024-06-03T03:44:49.201419200Z",
     "start_time": "2024-06-03T03:44:49.113532600Z"
    }
   },
   "outputs": [],
   "source": [
    "df = pd.read_csv(\"./dataset.csv\")"
   ]
  },
  {
   "cell_type": "markdown",
   "id": "c21ef372081005b4",
   "metadata": {},
   "source": [
    "Logistic Regression"
   ]
  },
  {
   "cell_type": "code",
   "execution_count": 4,
   "id": "328dcb92",
   "metadata": {
    "ExecuteTime": {
     "end_time": "2024-06-03T03:44:50.865550800Z",
     "start_time": "2024-06-03T03:44:49.183155800Z"
    }
   },
   "outputs": [
    {
     "name": "stdout",
     "output_type": "stream",
     "text": [
      "[0.8474698053170014, 0.8480856742053581, 0.849899065932186, 0.8502360911517143, 0.8451036748101006]\n",
      "0.8481588622832721\n"
     ]
    }
   ],
   "source": [
    "#logistic 1\n",
    "from sklearn.linear_model import LogisticRegression\n",
    "from sklearn.model_selection import KFold\n",
    "from numpy import mean\n",
    "def income_class(income):\n",
    "    if income in range(0, 20): \n",
    "        return 0\n",
    "    else:  \n",
    "        return 1\n",
    "\n",
    "df['Income_class'] = df['Income'].apply(income_class)\n",
    "\n",
    "X = df.drop(columns=['Income',\"Income_class\"])\n",
    "min_max_scaler = MinMaxScaler()\n",
    "X = min_max_scaler.fit_transform(X)\n",
    "y = df['Income_class']\n",
    "\n",
    "logistic_2 = LogisticRegression()\n",
    "accuracies = []\n",
    "kf = KFold(n_splits=5, shuffle=True, random_state=42)\n",
    "for train_index, test_index in kf.split(X):\n",
    "    X_train, X_test = X[train_index], X[test_index]\n",
    "    y_train, y_test = y[train_index], y[test_index]\n",
    "    logistic_2.fit(X_train, y_train)\n",
    "    y_pred = logistic_2.predict(X_test)\n",
    "    acc = accuracy_score(y_test, y_pred)\n",
    "    accuracies.append(acc)\n",
    "print(accuracies)\n",
    "print(mean(accuracies))\n"
   ]
  },
  {
   "cell_type": "code",
   "execution_count": 5,
   "outputs": [
    {
     "name": "stdout",
     "output_type": "stream",
     "text": [
      "[0.8775789509699935, 0.8756286994901974, 0.8773052314640573, 0.8747348251556833, 0.8770957366728256]\n",
      "0.8764686887505514\n"
     ]
    }
   ],
   "source": [
    "#logistic 2\n",
    "def income_class(income):\n",
    "    if income in range(0, 9): \n",
    "        return 0\n",
    "    else:  \n",
    "        return 1\n",
    "\n",
    "df['Income_class'] = df['Income'].apply(income_class)\n",
    "\n",
    "X = df.drop(columns=['Income',\"Income_class\"])\n",
    "min_max_scaler = MinMaxScaler()\n",
    "X = min_max_scaler.fit_transform(X)\n",
    "y = df['Income_class']\n",
    "\n",
    "logistic_2 = LogisticRegression()\n",
    "accuracies = []\n",
    "kf = KFold(n_splits=5, shuffle=True, random_state=42)\n",
    "for train_index, test_index in kf.split(X):\n",
    "    X_train, X_test = X[train_index], X[test_index]\n",
    "    y_train, y_test = y[train_index], y[test_index]\n",
    "    logistic_2.fit(X_train, y_train)\n",
    "    y_pred = logistic_2.predict(X_test)\n",
    "    acc = accuracy_score(y_test, y_pred)\n",
    "    accuracies.append(acc)\n",
    "print(accuracies)\n",
    "print(mean(accuracies))\n"
   ],
   "metadata": {
    "collapsed": false,
    "ExecuteTime": {
     "end_time": "2024-06-03T03:44:52.194688400Z",
     "start_time": "2024-06-03T03:44:50.869551700Z"
    }
   },
   "id": "bcb674bf6c970316"
  },
  {
   "cell_type": "markdown",
   "id": "e4976c02",
   "metadata": {},
   "source": [
    "Decision Tree"
   ]
  },
  {
   "cell_type": "code",
   "execution_count": 6,
   "id": "f6b039c2",
   "metadata": {
    "ExecuteTime": {
     "end_time": "2024-06-03T03:44:52.818037100Z",
     "start_time": "2024-06-03T03:44:52.198689400Z"
    }
   },
   "outputs": [
    {
     "name": "stdout",
     "output_type": "stream",
     "text": [
      "[0.8334416806377665, 0.8338522598966709, 0.8331337461935882, 0.8379525080407856, 0.8328200916991719]\n",
      "0.8342400572935966\n"
     ]
    }
   ],
   "source": [
    "#decision tree 1\n",
    "from sklearn.tree import DecisionTreeClassifier\n",
    "from sklearn.model_selection import KFold\n",
    "from numpy import mean\n",
    "def income_class(income):\n",
    "    if income in range(0, 20): \n",
    "        return 0\n",
    "    else:  \n",
    "        return 1\n",
    "\n",
    "df['Income_class'] = df['Income'].apply(income_class)\n",
    "\n",
    "X = df.drop(columns=['Income',\"Income_class\"])\n",
    "min_max_scaler = MinMaxScaler()\n",
    "X = min_max_scaler.fit_transform(X)\n",
    "y = df['Income_class']\n",
    "\n",
    "dt = DecisionTreeClassifier(max_depth=5, random_state=42)\n",
    "accuracies = []\n",
    "kf = KFold(n_splits=5, shuffle=True, random_state=42)\n",
    "for train_index, test_index in kf.split(X):\n",
    "    X_train, X_test = X[train_index], X[test_index]\n",
    "    y_train, y_test = y[train_index], y[test_index]\n",
    "    dt.fit(X_train, y_train)\n",
    "    y_pred = dt.predict(X_test)\n",
    "    acc = accuracy_score(y_test, y_pred)\n",
    "    accuracies.append(acc)\n",
    "print(accuracies)\n",
    "print(mean(accuracies))"
   ]
  },
  {
   "cell_type": "code",
   "execution_count": 7,
   "outputs": [
    {
     "name": "stdout",
     "output_type": "stream",
     "text": [
      "[0.8909569918226298, 0.8871249187395217, 0.8860300407157765, 0.8842126873331965, 0.8880448915349346]\n",
      "0.8872739060292119\n"
     ]
    }
   ],
   "source": [
    "#decision tree 2\n",
    "from sklearn.tree import DecisionTreeClassifier\n",
    "from sklearn.model_selection import KFold\n",
    "from numpy import mean\n",
    "\n",
    "def income_class(income):\n",
    "    if income in range(0, 9): \n",
    "        return 0\n",
    "    else:  \n",
    "        return 1\n",
    "\n",
    "df['Income_class'] = df['Income'].apply(income_class)\n",
    "\n",
    "X = df.drop(columns=['Income',\"Income_class\"])\n",
    "min_max_scaler = MinMaxScaler()\n",
    "X = min_max_scaler.fit_transform(X)\n",
    "y = df['Income_class']\n",
    "\n",
    "dt = DecisionTreeClassifier(max_depth=5, random_state=42)\n",
    "accuracies = []\n",
    "kf = KFold(n_splits=5, shuffle=True, random_state=42)\n",
    "for train_index, test_index in kf.split(X):\n",
    "    X_train, X_test = X[train_index], X[test_index]\n",
    "    y_train, y_test = y[train_index], y[test_index]\n",
    "    dt.fit(X_train, y_train)\n",
    "    y_pred = dt.predict(X_test)\n",
    "    acc = accuracy_score(y_test, y_pred)\n",
    "    accuracies.append(acc)\n",
    "print(accuracies)\n",
    "print(mean(accuracies))\n"
   ],
   "metadata": {
    "collapsed": false,
    "ExecuteTime": {
     "end_time": "2024-06-03T03:44:53.407492500Z",
     "start_time": "2024-06-03T03:44:52.818037100Z"
    }
   },
   "id": "dbaed06533d60bec"
  },
  {
   "cell_type": "markdown",
   "id": "13bd16f3",
   "metadata": {},
   "source": [
    "Random Forest"
   ]
  },
  {
   "cell_type": "code",
   "execution_count": 8,
   "id": "f7863a08",
   "metadata": {
    "ExecuteTime": {
     "end_time": "2024-06-03T03:45:29.429285200Z",
     "start_time": "2024-06-03T03:44:53.407492500Z"
    }
   },
   "outputs": [
    {
     "name": "stdout",
     "output_type": "stream",
     "text": [
      "[0.8520203921031922, 0.85366270913881, 0.8526362609915489, 0.8533497570656265, 0.8487305823581742]\n",
      "0.8520799403314703\n"
     ]
    },
    {
     "data": {
      "text/plain": "<Figure size 640x480 with 2 Axes>",
      "image/png": "[encoded data removed]"
     },
     "metadata": {},
     "output_type": "display_data"
    }
   ],
   "source": [
    "#random forest model \n",
    "#2 class \n",
    "from sklearn.model_selection import KFold\n",
    "from numpy import mean\n",
    "def income_class(income):\n",
    "    if income in range(0, 20): \n",
    "        return 0\n",
    "    else:  \n",
    "        return 1\n",
    "\n",
    "df['Income_class'] = df['Income'].apply(income_class)\n",
    "X = df.drop(columns=['Income',\"Income_class\"])\n",
    "min_max_scaler = MinMaxScaler()\n",
    "X = min_max_scaler.fit_transform(X)\n",
    "y = df['Income_class']\n",
    "kf = KFold(n_splits=5, shuffle=True, random_state=42)\n",
    "\n",
    "rf_2 = RandomForestClassifier(n_estimators=100, random_state=42)\n",
    "accuracies = []\n",
    "for train_index, test_index in kf.split(X):\n",
    "    X_train, X_test = X[train_index], X[test_index]\n",
    "    y_train, y_test = y[train_index], y[test_index]\n",
    "    rf_2.fit(X_train, y_train)\n",
    "    y_pred = rf_2.predict(X_test)\n",
    "    acc = accuracy_score(y_test, y_pred)\n",
    "    accuracies.append(acc)\n",
    "print(accuracies)\n",
    "print(mean(accuracies))\n",
    "#confusion matrix\n",
    "y_pred = rf_2.predict(X_test)\n",
    "cm=confusion_matrix(y_test, y_pred)\n",
    "disp = ConfusionMatrixDisplay(confusion_matrix=cm)\n",
    "disp.plot(cmap='Blues')\n",
    "plt.title('Confusion Matrix (Random Forest)')\n",
    "plt.show()"
   ]
  },
  {
   "cell_type": "code",
   "execution_count": 9,
   "outputs": [
    {
     "name": "stdout",
     "output_type": "stream",
     "text": [
      "[0.8898278988606425, 0.8884250863927191, 0.8889725254045916, 0.8870868404845001, 0.8907137480325737]\n",
      "0.8890052198350056\n"
     ]
    },
    {
     "data": {
      "text/plain": "<Figure size 640x480 with 2 Axes>",
      "image/png": "[encoded data removed]"
     },
     "metadata": {},
     "output_type": "display_data"
    }
   ],
   "source": [
    "#random forest model \n",
    "#2 class \n",
    "from sklearn.model_selection import KFold\n",
    "from numpy import mean\n",
    "\n",
    "def income_class(income):\n",
    "    if income in range(0, 9): \n",
    "        return 0\n",
    "    else:  \n",
    "        return 1\n",
    "\n",
    "df['Income_class'] = df['Income'].apply(income_class)\n",
    "X = df.drop(columns=['Income',\"Income_class\"])\n",
    "min_max_scaler = MinMaxScaler()\n",
    "X = min_max_scaler.fit_transform(X)\n",
    "y = df['Income_class']\n",
    "kf = KFold(n_splits=5, shuffle=True, random_state=42)\n",
    "rf_2 = RandomForestClassifier(n_estimators=100, random_state=42)\n",
    "\n",
    "accuracies = []\n",
    "for train_index, test_index in kf.split(X):\n",
    "    X_train, X_test = X[train_index], X[test_index]\n",
    "    y_train, y_test = y[train_index], y[test_index]\n",
    "    rf_2.fit(X_train, y_train)\n",
    "    y_pred = rf_2.predict(X_test)\n",
    "    acc = accuracy_score(y_test, y_pred)\n",
    "    accuracies.append(acc)\n",
    "    \n",
    "print(accuracies)\n",
    "print(mean(accuracies))\n",
    "\n",
    "#confusion matrix\n",
    "y_pred = rf_2.predict(X_test)\n",
    "cm=confusion_matrix(y_test, y_pred)\n",
    "disp = ConfusionMatrixDisplay(confusion_matrix=cm)\n",
    "disp.plot(cmap='Blues')\n",
    "plt.title('Confusion Matrix (Random Forest)')\n",
    "plt.show()"
   ],
   "metadata": {
    "collapsed": false,
    "ExecuteTime": {
     "end_time": "2024-06-03T03:45:56.679770800Z",
     "start_time": "2024-06-03T03:45:29.431283Z"
    }
   },
   "id": "b389eed55e742579"
  },
  {
   "cell_type": "code",
   "execution_count": 10,
   "id": "8676b5e1",
   "metadata": {
    "ExecuteTime": {
     "end_time": "2024-06-03T03:50:30.080531200Z",
     "start_time": "2024-06-03T03:45:56.683771700Z"
    }
   },
   "outputs": [
    {
     "name": "stderr",
     "output_type": "stream",
     "text": [
      "100%|██████████| 2002/2002 [04:33<00:00,  7.33it/s]"
     ]
    },
    {
     "name": "stdout",
     "output_type": "stream",
     "text": [
      "Best combination of 5 features: ['Industry', 'Income Tax', 'Full/Part Status', 'Age', 'Education']\n",
      "Best accuracy: 0.8458617032196257\n"
     ]
    },
    {
     "name": "stderr",
     "output_type": "stream",
     "text": [
      "\n"
     ]
    }
   ],
   "source": [
    "#best subset\n",
    "import random\n",
    "import pandas as pd\n",
    "from sklearn.metrics import accuracy_score, precision_score, recall_score, f1_score, confusion_matrix\n",
    "import itertools\n",
    "import numpy as np\n",
    "from sklearn.ensemble import RandomForestClassifier\n",
    "from sklearn.model_selection import train_test_split, cross_val_score, KFold\n",
    "from sklearn.preprocessing import MinMaxScaler, StandardScaler\n",
    "from tqdm import tqdm\n",
    "\n",
    "def income_class(Income):\n",
    "    if Income in range(0, 20):\n",
    "        return 0\n",
    "    else:\n",
    "        return 1\n",
    "\n",
    "random.seed(42)\n",
    "df = pd.read_csv(\"./dataset.csv\")\n",
    "X = df.drop(columns='Income')\n",
    "df['Income_class'] = df['Income'].apply(income_class)\n",
    "\n",
    "min_max_scaler = MinMaxScaler()\n",
    "X = min_max_scaler.fit_transform(X)\n",
    "y = df['Income_class']\n",
    "\n",
    "X_train, X_test, y_train, y_test = train_test_split(X, y, test_size=0.2, random_state=42)\n",
    "\n",
    "\n",
    "def evaluate_model(X_train, y_train, X_test, y_test, feature_indices):\n",
    "\n",
    "    X_train_subset = X_train[:, feature_indices]\n",
    "    X_test_subset = X_test[:, feature_indices]\n",
    "\n",
    "    # Train a random forest classifier\n",
    "    rf = RandomForestClassifier(n_estimators=5, random_state=42)\n",
    "    rf.fit(X_train_subset, y_train)\n",
    "\n",
    "    y_pred = rf.predict(X_test_subset)\n",
    "    accuracy = accuracy_score(y_test, y_pred)\n",
    "    return accuracy\n",
    "\n",
    "# Number of features to select\n",
    "k = 5\n",
    "\n",
    "# Generate all combinations of k features\n",
    "combinations = list(itertools.combinations(range(X.shape[1]), k))\n",
    "\n",
    "best_score = 0\n",
    "best_combination = []\n",
    "\n",
    "for combination in tqdm(combinations):\n",
    "    score = evaluate_model(X_train, y_train, X_test, y_test, combination)\n",
    "    if score > best_score:\n",
    "        best_score = score\n",
    "        best_combination = combination\n",
    "\n",
    "new_df = df.drop(columns='Income')\n",
    "best_feature_names = [new_df.columns[i] for i in best_combination]\n",
    "print(f\"Best combination of {k} features: {best_feature_names}\")\n",
    "print(f\"Best accuracy: {best_score}\")\n"
   ]
  },
  {
   "cell_type": "code",
   "execution_count": 11,
   "outputs": [
    {
     "name": "stderr",
     "output_type": "stream",
     "text": [
      "100%|██████████| 2002/2002 [05:50<00:00,  5.72it/s]"
     ]
    },
    {
     "name": "stdout",
     "output_type": "stream",
     "text": [
      "Best combination of 5 features: ['Income Tax', 'Full/Part Status', 'Age', 'Education', 'Job Class']\n",
      "Best accuracy: 0.8864064050364389\n"
     ]
    },
    {
     "name": "stderr",
     "output_type": "stream",
     "text": [
      "\n"
     ]
    }
   ],
   "source": [
    "#best subset\n",
    "import random\n",
    "import pandas as pd\n",
    "from sklearn.metrics import accuracy_score, precision_score, recall_score, f1_score, confusion_matrix\n",
    "import itertools\n",
    "import numpy as np\n",
    "from sklearn.ensemble import RandomForestClassifier\n",
    "from sklearn.model_selection import train_test_split, cross_val_score, KFold\n",
    "from sklearn.preprocessing import MinMaxScaler, StandardScaler\n",
    "from tqdm import tqdm\n",
    "\n",
    "def income_class(Income):\n",
    "    if Income in range(0, 9):\n",
    "        return 0\n",
    "    else:\n",
    "        return 1\n",
    "\n",
    "random.seed(42)\n",
    "df = pd.read_csv(\"./dataset.csv\")\n",
    "X = df.drop(columns='Income')\n",
    "df['Income_class'] = df['Income'].apply(income_class)\n",
    "\n",
    "min_max_scaler = MinMaxScaler()\n",
    "X = min_max_scaler.fit_transform(X)\n",
    "y = df['Income_class']\n",
    "\n",
    "X_train, X_test, y_train, y_test = train_test_split(X, y, test_size=0.2, random_state=42)\n",
    "\n",
    "\n",
    "def evaluate_model(X_train, y_train, X_test, y_test, feature_indices):\n",
    "\n",
    "    X_train_subset = X_train[:, feature_indices]\n",
    "    X_test_subset = X_test[:, feature_indices]\n",
    "\n",
    "    # Train a random forest classifier\n",
    "    rf = RandomForestClassifier(n_estimators=5, random_state=42)\n",
    "    rf.fit(X_train_subset, y_train)\n",
    "\n",
    "    y_pred = rf.predict(X_test_subset)\n",
    "    accuracy = accuracy_score(y_test, y_pred)\n",
    "    return accuracy\n",
    "\n",
    "# Number of features to select\n",
    "k = 5\n",
    "\n",
    "# Generate all combinations of k features\n",
    "combinations = list(itertools.combinations(range(X.shape[1]), k))\n",
    "\n",
    "best_score = 0\n",
    "best_combination = []\n",
    "\n",
    "for combination in tqdm(combinations):\n",
    "    score = evaluate_model(X_train, y_train, X_test, y_test, combination)\n",
    "    if score > best_score:\n",
    "        best_score = score\n",
    "        best_combination = combination\n",
    "\n",
    "new_df = df.drop(columns='Income')\n",
    "best_feature_names = [new_df.columns[i] for i in best_combination]\n",
    "print(f\"Best combination of {k} features: {best_feature_names}\")\n",
    "print(f\"Best accuracy: {best_score}\")\n"
   ],
   "metadata": {
    "collapsed": false,
    "ExecuteTime": {
     "end_time": "2024-06-03T03:56:20.318386400Z",
     "start_time": "2024-06-03T03:50:30.074035700Z"
    }
   },
   "id": "c3583d92500e53f3"
  },
  {
   "cell_type": "code",
   "execution_count": 12,
   "id": "4b3041ce",
   "metadata": {
    "ExecuteTime": {
     "end_time": "2024-06-03T03:56:20.799272300Z",
     "start_time": "2024-06-03T03:56:20.349277700Z"
    }
   },
   "outputs": [
    {
     "data": {
      "text/plain": "<Figure size 640x480 with 2 Axes>",
      "image/png": "[encoded data removed]"
     },
     "metadata": {},
     "output_type": "display_data"
    }
   ],
   "source": [
    "from numpy import mean\n",
    "import random\n",
    "import pandas as pd\n",
    "from sklearn.metrics import accuracy_score, precision_score, recall_score, f1_score, confusion_matrix, roc_curve, roc_auc_score, confusion_matrix, ConfusionMatrixDisplay\n",
    "import itertools\n",
    "import numpy as np\n",
    "from sklearn.ensemble import RandomForestClassifier\n",
    "from sklearn.model_selection import train_test_split, cross_val_score, KFold\n",
    "from sklearn.preprocessing import MinMaxScaler, StandardScaler\n",
    "from tqdm import tqdm\n",
    "from matplotlib import pyplot as plt\n",
    "#Model on features in the best subset \n",
    "X_small = df[['Industry', 'Income Tax', 'Full/Part Status', 'Age', 'Education']]\n",
    "y_small = y\n",
    "min_max_scaler = MinMaxScaler()\n",
    "X = min_max_scaler.fit_transform(X_small)\n",
    "y = df['Income_class']\n",
    "X_train, X_test, y_train, y_test = train_test_split(X, y, test_size=0.2, random_state=42)\n",
    "\n",
    "bs_rf = RandomForestClassifier(n_estimators=5, random_state=42)\n",
    "\n",
    "bs_rf.fit(X_train, y_train)\n",
    "\n",
    "\n",
    "y_pred = bs_rf.predict(X_test)\n",
    "cm=confusion_matrix(y_test, y_pred)\n",
    "disp = ConfusionMatrixDisplay(confusion_matrix=cm)\n",
    "disp.plot()\n",
    "plt.show()"
   ]
  },
  {
   "cell_type": "code",
   "execution_count": 13,
   "id": "124f28b7",
   "metadata": {
    "ExecuteTime": {
     "end_time": "2024-06-03T03:56:21.489525300Z",
     "start_time": "2024-06-03T03:56:20.791188500Z"
    }
   },
   "outputs": [
    {
     "name": "stdout",
     "output_type": "stream",
     "text": [
      "Explained Variance Ratio for Each Principal Component:\n",
      "      Explained Variance Ratio\n",
      "PC1                   0.365105\n",
      "PC2                   0.236062\n",
      "PC3                   0.151566\n",
      "PC4                   0.082354\n",
      "PC5                   0.052098\n",
      "PC6                   0.038968\n",
      "PC7                   0.017458\n",
      "PC8                   0.015780\n",
      "PC9                   0.009898\n",
      "PC10                  0.006499\n",
      "PC11                  0.006266\n",
      "PC12                  0.006225\n",
      "PC13                  0.006115\n",
      "PC14                  0.002899\n",
      "PC15                  0.002707\n",
      "\n",
      "Selected Features (top 7):\n",
      "   Industry      Race  Hours Worked  Health Status  Income Tax  \\\n",
      "0 -0.323243  0.004713     -0.075182      -0.095349   -0.006026   \n",
      "1  0.417847 -0.000054     -0.120902       0.119458   -0.002735   \n",
      "2  0.085169 -0.000645     -0.035753       0.054473   -0.017248   \n",
      "3  0.300230  0.007326      0.036117       0.025955    0.009514   \n",
      "4  0.139731  0.004089      0.044117      -0.132502    0.024829   \n",
      "5 -0.171527  0.005258     -0.008345       0.918196    0.022323   \n",
      "6 -0.357058 -0.011126      0.007560      -0.302112    0.019342   \n",
      "\n",
      "   Income Sources  Full/Part Status  Company Size       Age  Education  \\\n",
      "0       -0.007833         -0.123098     -0.253992 -0.362658  -0.425172   \n",
      "1       -0.002406         -0.063532     -0.446542  0.126007   0.060420   \n",
      "2       -0.000942         -0.037725     -0.213765  0.060075   0.016297   \n",
      "3        0.005347          0.123130      0.283985 -0.075228   0.264270   \n",
      "4       -0.001391          0.160733      0.596232 -0.164094   0.188785   \n",
      "5       -0.002187          0.017517      0.158710  0.231710  -0.056921   \n",
      "6       -0.001579          0.262213     -0.087047  0.757495   0.178992   \n",
      "\n",
      "   Marital Status    Gender  Residence  Job Class  Income_class  \n",
      "0        0.456768 -0.021090   0.003799  -0.223966     -0.478994  \n",
      "1        0.001136  0.310207  -0.004451   0.530062     -0.443085  \n",
      "2       -0.023443 -0.943641  -0.002824   0.201606     -0.074481  \n",
      "3        0.829889 -0.041867   0.018012   0.154061      0.147908  \n",
      "4       -0.229680 -0.095057   0.013789  -0.037475     -0.673097  \n",
      "5        0.066573 -0.000124  -0.007152  -0.120089     -0.159890  \n",
      "6        0.197694  0.005325  -0.030787  -0.084239     -0.226616  \n"
     ]
    }
   ],
   "source": [
    "#PCA\n",
    "import pandas as pd\n",
    "from sklearn.decomposition import PCA\n",
    "from sklearn.preprocessing import MinMaxScaler\n",
    "\n",
    "\n",
    "X = df.drop(columns=['Income'])\n",
    "\n",
    "scaler = MinMaxScaler()\n",
    "X_scaled = scaler.fit_transform(X)\n",
    "\n",
    "pca = PCA()\n",
    "X_pca = pca.fit_transform(X_scaled)\n",
    "\n",
    "explained_variance_ratio = pca.explained_variance_ratio_\n",
    "components_df = pd.DataFrame({'Explained Variance Ratio': explained_variance_ratio}, index=[f'PC{i+1}' for i in range(len(X.columns))])\n",
    "print(\"Explained Variance Ratio for Each Principal Component:\")\n",
    "print(components_df)\n",
    "\n",
    "column_names = X.columns\n",
    "\n",
    "n_components = 7\n",
    "selected_features = pca.components_[:n_components]\n",
    "selected_features_df = pd.DataFrame(selected_features, columns=column_names)\n",
    "print(f\"\\nSelected Features (top {n_components}):\")\n",
    "print(selected_features_df)\n"
   ]
  },
  {
   "cell_type": "code",
   "execution_count": 14,
   "id": "2ab2b002",
   "metadata": {
    "ExecuteTime": {
     "end_time": "2024-06-03T03:58:30.063559200Z",
     "start_time": "2024-06-03T03:56:21.481523500Z"
    }
   },
   "outputs": [
    {
     "name": "stdout",
     "output_type": "stream",
     "text": [
      "Fold 1 Accuracy: 0.8276251411366202\n",
      "Fold 2 Accuracy: 0.8270092722482636\n",
      "Fold 3 Accuracy: 0.8284120847161871\n",
      "Fold 4 Accuracy: 0.8300143707657566\n",
      "Fold 5 Accuracy: 0.8254294121672483\n",
      "Mean Accuracy: 0.8276980562068152\n"
     ]
    }
   ],
   "source": [
    "#kfold on PCA 1\n",
    "def income_class(Income):\n",
    "    if Income in range(0, 20):\n",
    "        return 0\n",
    "    else:\n",
    "        return 1\n",
    "df['Income_class'] = df['Income'].apply(income_class)\n",
    "\n",
    "X = df.drop(columns=['Income', 'Income_class'])\n",
    "y = df['Income_class']\n",
    "\n",
    "scaler = MinMaxScaler()\n",
    "X_scaled = scaler.fit_transform(X)\n",
    "\n",
    "pca = PCA(n_components=7)\n",
    "X_pca = pca.fit_transform(X_scaled)\n",
    "\n",
    "pca_rf = RandomForestClassifier(n_estimators=100, random_state=42)\n",
    "kf = KFold(n_splits=5, shuffle=True, random_state=42)\n",
    "\n",
    "cv_scores = cross_val_score(pca_rf, X_pca, y, cv=kf, scoring='accuracy')\n",
    "\n",
    "for fold, score in enumerate(cv_scores, 1):\n",
    "    print(f\"Fold {fold} Accuracy: {score}\")\n",
    "print(f\"Mean Accuracy: {np.mean(cv_scores)}\")"
   ]
  },
  {
   "cell_type": "code",
   "execution_count": 15,
   "outputs": [
    {
     "data": {
      "text/plain": "<Figure size 640x480 with 2 Axes>",
      "image/png": "[encoded data removed]"
     },
     "metadata": {},
     "output_type": "display_data"
    }
   ],
   "source": [
    "X_train, X_test, y_train, y_test = train_test_split(X_pca, y, test_size=0.2, random_state=42)\n",
    "pca_rf = RandomForestClassifier(n_estimators=100, random_state=42)\n",
    "pca_rf.fit(X_train, y_train)\n",
    "y_pred = pca_rf.predict(X_test)\n",
    "cm=confusion_matrix(y_test, y_pred)\n",
    "disp = ConfusionMatrixDisplay(confusion_matrix=cm)\n",
    "disp.plot(cmap='Blues')\n",
    "plt.title('Confusion Matrix (PCA)')\n",
    "plt.show()"
   ],
   "metadata": {
    "collapsed": false,
    "ExecuteTime": {
     "end_time": "2024-06-03T03:58:55.736746200Z",
     "start_time": "2024-06-03T03:58:30.072593100Z"
    }
   },
   "id": "328e6e7c5d975198"
  },
  {
   "cell_type": "code",
   "execution_count": 16,
   "outputs": [
    {
     "name": "stdout",
     "output_type": "stream",
     "text": [
      "Fold 1 Accuracy: 0.8755602696137134\n",
      "Fold 2 Accuracy: 0.8719677010982995\n",
      "Fold 3 Accuracy: 0.8727204297396243\n",
      "Fold 4 Accuracy: 0.8730582358174228\n",
      "Fold 5 Accuracy: 0.8762403339492233\n",
      "Mean Accuracy: 0.8739093940436566\n"
     ]
    }
   ],
   "source": [
    "#kfold on PCA 2\n",
    "def income_class(Income):\n",
    "    if Income in range(0, 9):\n",
    "        return 0\n",
    "    else:\n",
    "        return 1\n",
    "df['Income_class'] = df['Income'].apply(income_class)\n",
    "\n",
    "X = df.drop(columns=['Income', 'Income_class'])\n",
    "y = df['Income_class']\n",
    "\n",
    "scaler = MinMaxScaler()\n",
    "X_scaled = scaler.fit_transform(X)\n",
    "\n",
    "pca = PCA(n_components=7)\n",
    "X_pca = pca.fit_transform(X_scaled)\n",
    "\n",
    "pca_rf = RandomForestClassifier(n_estimators=100, random_state=42)\n",
    "kf = KFold(n_splits=5, shuffle=True, random_state=42)\n",
    "\n",
    "cv_scores = cross_val_score(pca_rf, X_pca, y, cv=kf, scoring='accuracy')\n",
    "\n",
    "for fold, score in enumerate(cv_scores, 1):\n",
    "    print(f\"Fold {fold} Accuracy: {score}\")\n",
    "print(f\"Mean Accuracy: {np.mean(cv_scores)}\")"
   ],
   "metadata": {
    "collapsed": false,
    "ExecuteTime": {
     "end_time": "2024-06-03T04:01:10.326270400Z",
     "start_time": "2024-06-03T03:58:55.739746700Z"
    }
   },
   "id": "c466f997dd8e6a93"
  },
  {
   "cell_type": "code",
   "execution_count": 17,
   "outputs": [
    {
     "data": {
      "text/plain": "<Figure size 640x480 with 2 Axes>",
      "image/png": "[encoded data removed]"
     },
     "metadata": {},
     "output_type": "display_data"
    }
   ],
   "source": [
    "pca_rf = RandomForestClassifier(n_estimators=100, random_state=42)\n",
    "pca_rf.fit(X_train, y_train)\n",
    "y_pred = pca_rf.predict(X_test)\n",
    "cm=confusion_matrix(y_test, y_pred)\n",
    "disp = ConfusionMatrixDisplay(confusion_matrix=cm)\n",
    "disp.plot(cmap='Blues')\n",
    "plt.title('Confusion Matrix (PCA)')\n",
    "plt.show()"
   ],
   "metadata": {
    "collapsed": false,
    "ExecuteTime": {
     "end_time": "2024-06-03T04:01:35.788573400Z",
     "start_time": "2024-06-03T04:01:10.323632700Z"
    }
   },
   "id": "1741ebdc52b67ccb"
  },
  {
   "cell_type": "markdown",
   "id": "dde1c045",
   "metadata": {
    "scrolled": true
   },
   "source": [
    "Further Evaluation"
   ]
  },
  {
   "cell_type": "code",
   "execution_count": 18,
   "id": "6a08ac55a598239e",
   "metadata": {
    "ExecuteTime": {
     "end_time": "2024-06-03T04:01:35.794404600Z",
     "start_time": "2024-06-03T04:01:35.791203100Z"
    }
   },
   "outputs": [],
   "source": [
    "from sklearn.metrics import accuracy_score, precision_score, recall_score, f1_score, confusion_matrix, roc_curve, roc_auc_score\n",
    "import matplotlib.pyplot as plt\n",
    "\n",
    "def model_evaluation(X_test, y_test, model):\n",
    "    y_pred = model.predict(X_test)\n",
    "    result = {\"Accuracy\": accuracy_score(y_test, y_pred),\n",
    "        \"Precision\": precision_score(y_test, y_pred),\n",
    "        \"Recall\": recall_score(y_test, y_pred),\n",
    "        \"F1-score\": f1_score(y_test, y_pred),\n",
    "        \"Confusion matrix\": confusion_matrix(y_test, y_pred)}\n",
    "    print(result)\n",
    "\n",
    "def income_class_mean(income):\n",
    "    if income in range(0, 20): \n",
    "        return 0\n",
    "    else:  \n",
    "        return 1\n",
    "    \n",
    "def income_class_median(income):\n",
    "    if income in range(0, 20): \n",
    "        return 0\n",
    "    else:  \n",
    "        return 1"
   ]
  },
  {
   "cell_type": "code",
   "execution_count": 19,
   "id": "771b7fb1173a9223",
   "metadata": {
    "ExecuteTime": {
     "end_time": "2024-06-03T04:01:36.456004700Z",
     "start_time": "2024-06-03T04:01:35.795552600Z"
    }
   },
   "outputs": [
    {
     "name": "stdout",
     "output_type": "stream",
     "text": [
      "{'Accuracy': 0.7677147842748144, 'Precision': 0.5636447187028163, 'Recall': 0.983730522456462, 'F1-score': 0.7166645799424064, 'Confusion matrix': array([[13852,  6647],\n",
      "       [  142,  8586]], dtype=int64)}\n"
     ]
    }
   ],
   "source": [
    "df['Income_class'] = df['Income'].apply(income_class_median)\n",
    "X = df.drop(columns=['Income',\"Income_class\"])\n",
    "min_max_scaler = MinMaxScaler()\n",
    "X = min_max_scaler.fit_transform(X)\n",
    "y = df['Income_class']\n",
    "X_train, X_test, y_train, y_test = train_test_split(X, y, test_size=0.2, random_state=42)\n",
    "model_evaluation(X_test, y_test, rf_2) #Models:logistic2, dt, rf_2"
   ]
  },
  {
   "cell_type": "code",
   "execution_count": 24,
   "outputs": [
    {
     "name": "stderr",
     "output_type": "stream",
     "text": [
      "100%|██████████| 14/14 [00:00<00:00, 18.77it/s]\n"
     ]
    },
    {
     "name": "stdout",
     "output_type": "stream",
     "text": [
      "Best combination of 1 features: ['Hours Worked']\n",
      "Best accuracy: 0.794607725733055\n"
     ]
    },
    {
     "name": "stderr",
     "output_type": "stream",
     "text": [
      "100%|██████████| 91/91 [00:06<00:00, 14.52it/s]\n"
     ]
    },
    {
     "name": "stdout",
     "output_type": "stream",
     "text": [
      "Best combination of 2 features: ['Hours Worked', 'Education']\n",
      "Best accuracy: 0.8248195162007732\n"
     ]
    },
    {
     "name": "stderr",
     "output_type": "stream",
     "text": [
      "100%|██████████| 364/364 [00:29<00:00, 12.21it/s]\n"
     ]
    },
    {
     "name": "stdout",
     "output_type": "stream",
     "text": [
      "Best combination of 3 features: ['Hours Worked', 'Income Tax', 'Education']\n",
      "Best accuracy: 0.8335101105142505\n"
     ]
    },
    {
     "name": "stderr",
     "output_type": "stream",
     "text": [
      "100%|██████████| 1001/1001 [01:49<00:00,  9.15it/s]"
     ]
    },
    {
     "name": "stdout",
     "output_type": "stream",
     "text": [
      "Best combination of 4 features: ['Industry', 'Income Tax', 'Full/Part Status', 'Education']\n",
      "Best accuracy: 0.8427481438396004\n"
     ]
    },
    {
     "name": "stderr",
     "output_type": "stream",
     "text": [
      "\n"
     ]
    }
   ],
   "source": [
    "#best subset from 1 to 4\n",
    "import random\n",
    "import pandas as pd\n",
    "import itertools\n",
    "from sklearn.model_selection import train_test_split\n",
    "from sklearn.preprocessing import MinMaxScaler\n",
    "from tqdm import tqdm\n",
    "\n",
    "def income_class(Income):\n",
    "    if Income in range(0, 20):\n",
    "        return 0\n",
    "    else:\n",
    "        return 1\n",
    "\n",
    "random.seed(42)\n",
    "df = pd.read_csv(\"./dataset.csv\")\n",
    "X = df.drop(columns='Income')\n",
    "df['Income_class'] = df['Income'].apply(income_class)\n",
    "\n",
    "min_max_scaler = MinMaxScaler()\n",
    "X = min_max_scaler.fit_transform(X)\n",
    "y = df['Income_class']\n",
    "\n",
    "X_train, X_test, y_train, y_test = train_test_split(X, y, test_size=0.2, random_state=42)\n",
    "\n",
    "\n",
    "def evaluate_model(X_train, y_train, X_test, y_test, feature_indices):\n",
    "    X_train_subset = X_train[:, feature_indices]\n",
    "    X_test_subset = X_test[:, feature_indices]\n",
    "    rf = RandomForestClassifier(n_estimators=5, random_state=42)\n",
    "    rf.fit(X_train_subset, y_train)\n",
    "    y_pred = rf.predict(X_test_subset)\n",
    "    accuracy = accuracy_score(y_test, y_pred)\n",
    "    return accuracy\n",
    "\n",
    "for k in range(1, 5):\n",
    "    best_score = 0\n",
    "    best_combination = []\n",
    "    combinations = list(itertools.combinations(range(X.shape[1]), k))\n",
    "    for combination in tqdm(combinations):\n",
    "        score = evaluate_model(X_train, y_train, X_test, y_test, combination)\n",
    "        if score > best_score:\n",
    "            best_score = score\n",
    "            best_combination = combination\n",
    "    \n",
    "    new_df = df.drop(columns='Income')\n",
    "    best_feature_names = [new_df.columns[i] for i in best_combination]\n",
    "    print(f\"Best combination of {k} features: {best_feature_names}\")\n",
    "    print(f\"Best accuracy: {best_score}\")"
   ],
   "metadata": {
    "collapsed": false,
    "ExecuteTime": {
     "end_time": "2024-06-03T04:17:24.605607400Z",
     "start_time": "2024-06-03T04:14:58.215147800Z"
    }
   },
   "id": "7d1379f4a8707660"
  },
  {
   "cell_type": "code",
   "execution_count": 23,
   "outputs": [
    {
     "name": "stderr",
     "output_type": "stream",
     "text": [
      "100%|██████████| 14/14 [00:00<00:00, 16.43it/s]\n"
     ]
    },
    {
     "name": "stdout",
     "output_type": "stream",
     "text": [
      "Best combination of 1 features: ['Job Class']\n",
      "Best accuracy: 0.8393608649536387\n"
     ]
    },
    {
     "name": "stderr",
     "output_type": "stream",
     "text": [
      "100%|██████████| 91/91 [00:06<00:00, 13.11it/s]\n"
     ]
    },
    {
     "name": "stdout",
     "output_type": "stream",
     "text": [
      "Best combination of 2 features: ['Industry', 'Age']\n",
      "Best accuracy: 0.8636876860437267\n"
     ]
    },
    {
     "name": "stderr",
     "output_type": "stream",
     "text": [
      "100%|██████████| 364/364 [00:32<00:00, 11.28it/s]\n"
     ]
    },
    {
     "name": "stdout",
     "output_type": "stream",
     "text": [
      "Best combination of 3 features: ['Age', 'Education', 'Job Class']\n",
      "Best accuracy: 0.8767235775139426\n"
     ]
    },
    {
     "name": "stderr",
     "output_type": "stream",
     "text": [
      "100%|██████████| 1001/1001 [02:00<00:00,  8.32it/s]"
     ]
    },
    {
     "name": "stdout",
     "output_type": "stream",
     "text": [
      "Best combination of 4 features: ['Income Tax', 'Age', 'Education', 'Job Class']\n",
      "Best accuracy: 0.8851404523214835\n"
     ]
    },
    {
     "name": "stderr",
     "output_type": "stream",
     "text": [
      "\n"
     ]
    }
   ],
   "source": [
    "#best subset 2\n",
    "import random\n",
    "import pandas as pd\n",
    "from sklearn.metrics import accuracy_score, precision_score, recall_score, f1_score, confusion_matrix\n",
    "import itertools\n",
    "from sklearn.ensemble import RandomForestClassifier\n",
    "from sklearn.model_selection import train_test_split\n",
    "from sklearn.preprocessing import MinMaxScaler\n",
    "from tqdm import tqdm\n",
    "\n",
    "def income_class(Income):\n",
    "    if Income in range(0, 9):\n",
    "        return 0\n",
    "    else:\n",
    "        return 1\n",
    "\n",
    "random.seed(42)\n",
    "df = pd.read_csv(\"./dataset.csv\")\n",
    "X = df.drop(columns='Income')\n",
    "df['Income_class'] = df['Income'].apply(income_class)\n",
    "\n",
    "min_max_scaler = MinMaxScaler()\n",
    "X = min_max_scaler.fit_transform(X)\n",
    "y = df['Income_class']\n",
    "\n",
    "X_train, X_test, y_train, y_test = train_test_split(X, y, test_size=0.2, random_state=42)\n",
    "\n",
    "\n",
    "def evaluate_model(X_train, y_train, X_test, y_test, feature_indices):\n",
    "    X_train_subset = X_train[:, feature_indices]\n",
    "    X_test_subset = X_test[:, feature_indices]\n",
    "    rf = RandomForestClassifier(n_estimators=5, random_state=42)\n",
    "    rf.fit(X_train_subset, y_train)\n",
    "    y_pred = rf.predict(X_test_subset)\n",
    "    accuracy = accuracy_score(y_test, y_pred)\n",
    "    return accuracy\n",
    "\n",
    "for k in range(1, 5):\n",
    "    best_score = 0\n",
    "    best_combination = []\n",
    "    combinations = list(itertools.combinations(range(X.shape[1]), k))\n",
    "    for combination in tqdm(combinations):\n",
    "        score = evaluate_model(X_train, y_train, X_test, y_test, combination)\n",
    "        if score > best_score:\n",
    "            best_score = score\n",
    "            best_combination = combination\n",
    "    \n",
    "    new_df = df.drop(columns='Income')\n",
    "    best_feature_names = [new_df.columns[i] for i in best_combination]\n",
    "    print(f\"Best combination of {k} features: {best_feature_names}\")\n",
    "    print(f\"Best accuracy: {best_score}\")\n"
   ],
   "metadata": {
    "collapsed": false,
    "ExecuteTime": {
     "end_time": "2024-06-03T04:14:54.059921100Z",
     "start_time": "2024-06-03T04:12:13.527900600Z"
    }
   },
   "id": "67368b1db16a79b8"
  }
 ],
 "metadata": {
  "kernelspec": {
   "display_name": "Python 3 (ipykernel)",
   "language": "python",
   "name": "python3"
  },
  "language_info": {
   "codemirror_mode": {
    "name": "ipython",
    "version": 3
   },
   "file_extension": ".py",
   "mimetype": "text/x-python",
   "name": "python",
   "nbconvert_exporter": "python",
   "pygments_lexer": "ipython3",
   "version": "3.11.5"
  }
 },
 "nbformat": 4,
 "nbformat_minor": 5
}
